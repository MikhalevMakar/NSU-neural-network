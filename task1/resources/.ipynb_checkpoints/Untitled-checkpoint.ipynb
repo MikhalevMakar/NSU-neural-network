{
 "cells": [
  {
   "cell_type": "code",
   "execution_count": null,
   "id": "08ee02d2-b3f8-4228-af03-4ca9a9fa0e5b",
   "metadata": {},
   "outputs": [],
   "source": [
    "import pandas as pd\n",
    "import numpy as np\n",
    "\n",
    "if __name__ == '__main__':\n",
    "    df = pd.read_csv('./resources/laptop_price.csv')\n",
    "    df.head()"
   ]
  }
 ],
 "metadata": {
  "kernelspec": {
   "display_name": "Python 3 (ipykernel)",
   "language": "python",
   "name": "python3"
  },
  "language_info": {
   "codemirror_mode": {
    "name": "ipython",
    "version": 3
   },
   "file_extension": ".py",
   "mimetype": "text/x-python",
   "name": "python",
   "nbconvert_exporter": "python",
   "pygments_lexer": "ipython3",
   "version": "3.9.6"
  }
 },
 "nbformat": 4,
 "nbformat_minor": 5
}
